{
  "nbformat": 4,
  "nbformat_minor": 0,
  "metadata": {
    "kernelspec": {
      "display_name": "Python 3",
      "language": "python",
      "name": "python3"
    },
    "language_info": {
      "codemirror_mode": {
        "name": "ipython",
        "version": 3
      },
      "file_extension": ".py",
      "mimetype": "text/x-python",
      "name": "python",
      "nbconvert_exporter": "python",
      "pygments_lexer": "ipython3",
      "version": "3.7.5"
    },
    "colab": {
      "name": "Task4.ipynb",
      "provenance": [],
      "private_outputs": true
    },
    "accelerator": "GPU"
  },
  "cells": [
    {
      "cell_type": "markdown",
      "metadata": {
        "Collapsed": "false",
        "id": "cpQj39L_Z83Z",
        "colab_type": "text"
      },
      "source": [
        "# Using Natural Language Processing to Generate New Recipes in Python\n",
        "## Task 4: GPT-2 Pretrained Model Formulation and Theory"
      ]
    },
    {
      "cell_type": "code",
      "metadata": {
        "Collapsed": "false",
        "id": "-GgTVLoxZ83d",
        "colab_type": "code",
        "colab": {}
      },
      "source": [
        "from transformers import AutoTokenizer, AutoModelForCausalLM"
      ],
      "execution_count": null,
      "outputs": []
    },
    {
      "cell_type": "code",
      "metadata": {
        "Collapsed": "false",
        "id": "dUkyok-bZ83q",
        "colab_type": "code",
        "colab": {}
      },
      "source": [
        ""
      ],
      "execution_count": null,
      "outputs": []
    },
    {
      "cell_type": "markdown",
      "metadata": {
        "id": "XQogeaTynxgd",
        "colab_type": "text"
      },
      "source": [
        "input>huge_model>label\n",
        "^training\n",
        "\n",
        "input>huge_model_predictions\n",
        "^trained\n",
        "\n",
        "input>smaller_model>predictions\n",
        "^training"
      ]
    },
    {
      "cell_type": "code",
      "metadata": {
        "Collapsed": "false",
        "id": "eZZOkz9RZ830",
        "colab_type": "code",
        "colab": {}
      },
      "source": [
        "tokenizer=AutoTokenizer.from_pretrained('distilgpt2')\n",
        "model=AutoModelForCausalLM.from_pretrained('distilgpt2')"
      ],
      "execution_count": null,
      "outputs": []
    },
    {
      "cell_type": "code",
      "metadata": {
        "Collapsed": "false",
        "id": "3q0mCT7kZ83_",
        "colab_type": "code",
        "colab": {}
      },
      "source": [
        "prompt_text='Yesterday I walked to shop and'\n",
        "\n",
        "encoded_prompt=tokenizer.encode(\n",
        "    prompt_text,\n",
        "    add_special_token=False,\n",
        "    return_tensors='pt'\n",
        ")\n",
        "\n",
        "encoded_prompt"
      ],
      "execution_count": null,
      "outputs": []
    },
    {
      "cell_type": "code",
      "metadata": {
        "Collapsed": "false",
        "id": "kI9U7vafZ84J",
        "colab_type": "code",
        "colab": {}
      },
      "source": [
        "tensor([[28065, 11, 314, 6807, 284, 262, 6128, 11, 290]])"
      ],
      "execution_count": null,
      "outputs": []
    },
    {
      "cell_type": "code",
      "metadata": {
        "Collapsed": "false",
        "id": "0Ihx5IG3Z84U",
        "colab_type": "code",
        "colab": {}
      },
      "source": [
        "output_sequences= model.generate(\n",
        "    input_ids=encoded_prompt,\n",
        "    max_length=2048,\n",
        "    temperature=0.9,\n",
        "    top_k=20,\n",
        "    top_p=0.9,\n",
        "    repetition_penalty=1,\n",
        "    do_sample=True,\n",
        "    num_return_sequences=2,\n",
        "\n",
        ")"
      ],
      "execution_count": null,
      "outputs": []
    },
    {
      "cell_type": "code",
      "metadata": {
        "id": "2o7H-6LkxDSk",
        "colab_type": "code",
        "colab": {}
      },
      "source": [
        "tokenizer.decode(output_sequences[0])"
      ],
      "execution_count": null,
      "outputs": []
    },
    {
      "cell_type": "code",
      "metadata": {
        "id": "cMLJzI49xSP1",
        "colab_type": "code",
        "colab": {}
      },
      "source": [
        "model.generate?"
      ],
      "execution_count": null,
      "outputs": []
    }
  ]
}