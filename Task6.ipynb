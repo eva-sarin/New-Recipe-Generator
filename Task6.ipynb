{
  "nbformat": 4,
  "nbformat_minor": 0,
  "metadata": {
    "kernelspec": {
      "display_name": "Python 3",
      "language": "python",
      "name": "python3"
    },
    "language_info": {
      "codemirror_mode": {
        "name": "ipython",
        "version": 3
      },
      "file_extension": ".py",
      "mimetype": "text/x-python",
      "name": "python",
      "nbconvert_exporter": "python",
      "pygments_lexer": "ipython3",
      "version": "3.7.5"
    },
    "colab": {
      "name": "Task6.ipynb",
      "provenance": []
    }
  },
  "cells": [
    {
      "cell_type": "markdown",
      "metadata": {
        "Collapsed": "false",
        "id": "cdtaz1SLItlP",
        "colab_type": "text"
      },
      "source": [
        "# Using Natural Language Processing to Generate New Recipes in Python\n",
        "## Task 6: Investigating Finetuning Model Performance"
      ]
    },
    {
      "cell_type": "code",
      "metadata": {
        "Collapsed": "false",
        "id": "Y6a3245HItlR",
        "colab_type": "code",
        "colab": {}
      },
      "source": [
        "from transformers import AutoModelForCausalLM, AutoTokenizer"
      ],
      "execution_count": null,
      "outputs": []
    },
    {
      "cell_type": "code",
      "metadata": {
        "Collapsed": "false",
        "id": "3Tav08BsItlW",
        "colab_type": "code",
        "colab": {}
      },
      "source": [
        "tokenizer= AutoTokenizer.from_pretrained('TrainedModels/Model_10_epochs/')\n",
        "model= AutoModelForCausalLM.from_pretrained('TrainedModels/Model_10_epochs')"
      ],
      "execution_count": null,
      "outputs": []
    },
    {
      "cell_type": "code",
      "metadata": {
        "Collapsed": "false",
        "id": "TZ68G5R-Itle",
        "colab_type": "code",
        "colab": {}
      },
      "source": [
        "with open('Dataset/dataset_val.txt','r') as f:\n",
        "  data=f.read()"
      ],
      "execution_count": null,
      "outputs": []
    },
    {
      "cell_type": "code",
      "metadata": {
        "Collapsed": "false",
        "id": "cSKKa0jNItlj",
        "colab_type": "code",
        "colab": {}
      },
      "source": [
        "special_token='<|endoftext|>'"
      ],
      "execution_count": null,
      "outputs": []
    },
    {
      "cell_type": "code",
      "metadata": {
        "Collapsed": "false",
        "id": "Qs5-6aeNItls",
        "colab_type": "code",
        "colab": {}
      },
      "source": [
        "data=data.split(special_token)"
      ],
      "execution_count": null,
      "outputs": []
    },
    {
      "cell_type": "code",
      "metadata": {
        "Collapsed": "false",
        "id": "drmBA7pXItly",
        "colab_type": "code",
        "colab": {}
      },
      "source": [
        "data[0]"
      ],
      "execution_count": null,
      "outputs": []
    },
    {
      "cell_type": "code",
      "metadata": {
        "Collapsed": "false",
        "id": "1HIk9amDItl3",
        "colab_type": "code",
        "colab": {}
      },
      "source": [
        "prompt_text=data[100].split('Instructions:')"
      ],
      "execution_count": null,
      "outputs": []
    },
    {
      "cell_type": "code",
      "metadata": {
        "Collapsed": "false",
        "id": "yOpnItmPItmA",
        "colab_type": "code",
        "colab": {}
      },
      "source": [
        "print(prompt_text)"
      ],
      "execution_count": null,
      "outputs": []
    },
    {
      "cell_type": "code",
      "metadata": {
        "id": "Ew6PDJlYS_d4",
        "colab_type": "code",
        "colab": {}
      },
      "source": [
        "prompt_text='Ingredients: \\n 5 eggs \\n butter \\n cheese \\n breadcrumbs'\n",
        "prompt_text+=' \\n Instructions:'"
      ],
      "execution_count": null,
      "outputs": []
    },
    {
      "cell_type": "code",
      "metadata": {
        "Collapsed": "false",
        "id": "3SorPIMfItmF",
        "colab_type": "code",
        "colab": {}
      },
      "source": [
        "encoded_prompt=tokenizer.encode(\n",
        "    prompt_text,\n",
        "    add_special_tokens=False,\n",
        "    return_tensors='pt'\n",
        ")"
      ],
      "execution_count": null,
      "outputs": []
    },
    {
      "cell_type": "code",
      "metadata": {
        "Collapsed": "false",
        "id": "ldGSiZQ-ItmN",
        "colab_type": "code",
        "colab": {}
      },
      "source": [
        "output_sequences= model.generate(\n",
        "    input_ids=encoded_prompt,\n",
        "    max_length=2048,\n",
        "    temperature=0.9,\n",
        "    top_k=20,\n",
        "    top_p=0.9,\n",
        "    repetition_penalty=1,\n",
        "    do_sample=True,\n",
        "    num_return_sequences=4,\n",
        "\n",
        ")"
      ],
      "execution_count": null,
      "outputs": []
    },
    {
      "cell_type": "code",
      "metadata": {
        "id": "Twr6oAweLmmJ",
        "colab_type": "code",
        "colab": {}
      },
      "source": [
        "for i, output_sequence in enumerate(output_sequences):\n",
        "  result=tokenizer.decode(output_sequence)\n",
        "  result=result[:result.index](special_token)]\n",
        "  print('---')\n",
        "  print(f'Generated Output #{i}')\n",
        "  print('---')\n",
        "  print(result)"
      ],
      "execution_count": null,
      "outputs": []
    },
    {
      "cell_type": "code",
      "metadata": {
        "id": "e1AYwRH2SDZ2",
        "colab_type": "code",
        "colab": {}
      },
      "source": [
        ""
      ],
      "execution_count": null,
      "outputs": []
    }
  ]
}