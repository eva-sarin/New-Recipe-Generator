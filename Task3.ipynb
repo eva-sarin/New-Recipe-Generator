{
  "nbformat": 4,
  "nbformat_minor": 0,
  "metadata": {
    "kernelspec": {
      "display_name": "Python 3",
      "language": "python",
      "name": "python3"
    },
    "language_info": {
      "codemirror_mode": {
        "name": "ipython",
        "version": 3
      },
      "file_extension": ".py",
      "mimetype": "text/x-python",
      "name": "python",
      "nbconvert_exporter": "python",
      "pygments_lexer": "ipython3",
      "version": "3.7.5"
    },
    "colab": {
      "name": "Task3.ipynb",
      "provenance": [],
      "private_outputs": true
    },
    "accelerator": "GPU"
  },
  "cells": [
    {
      "cell_type": "markdown",
      "metadata": {
        "Collapsed": "false",
        "id": "OjjGj21cDBDB",
        "colab_type": "text"
      },
      "source": [
        "# Using Natural Language Processing to Generate New Recipes in Python\n",
        "## Task 3: Dataset Preparation"
      ]
    },
    {
      "cell_type": "code",
      "metadata": {
        "Collapsed": "false",
        "id": "u5pwuv1xDBDG",
        "colab_type": "code",
        "colab": {}
      },
      "source": [
        "import pandas as pd"
      ],
      "execution_count": null,
      "outputs": []
    },
    {
      "cell_type": "code",
      "metadata": {
        "Collapsed": "false",
        "id": "OZT_UgWbDBDb",
        "colab_type": "code",
        "colab": {}
      },
      "source": [
        "df=pd.read_pickle('df_recipes_raw.pkl')"
      ],
      "execution_count": null,
      "outputs": []
    },
    {
      "cell_type": "code",
      "metadata": {
        "Collapsed": "false",
        "id": "ThOKEQevDBDs",
        "colab_type": "code",
        "colab": {}
      },
      "source": [
        "special_token='<|endoftext|>'"
      ],
      "execution_count": null,
      "outputs": []
    },
    {
      "cell_type": "code",
      "metadata": {
        "Collapsed": "false",
        "id": "hjHXONVfDBEC",
        "colab_type": "code",
        "colab": {}
      },
      "source": [
        "prnit(df.shape)\n",
        "df=df[(df.ingredient_count>=3) & (df.instruction_length>=10)]\n",
        "print(df.shape)"
      ],
      "execution_count": null,
      "outputs": []
    },
    {
      "cell_type": "code",
      "metadata": {
        "Collapsed": "false",
        "id": "HJe4LLMcDBET",
        "colab_type": "code",
        "colab": {}
      },
      "source": [
        "#Ingredients: \\n Instructions: \\n special_token\n",
        "df['combined']='\\n Ingredients: \\n' + df.ingredients.str.join('\\n')+ \\\n",
        "' \\n Instructions: \\n' + df.instructions + special_token"
      ],
      "execution_count": null,
      "outputs": []
    },
    {
      "cell_type": "code",
      "metadata": {
        "Collapsed": "false",
        "id": "LdFJqg9FDBEk",
        "colab_type": "code",
        "colab": {}
      },
      "source": [
        "df.iloc[100].ingredients"
      ],
      "execution_count": null,
      "outputs": []
    },
    {
      "cell_type": "code",
      "metadata": {
        "Collapsed": "false",
        "id": "yHYszb3QDBEz",
        "colab_type": "code",
        "colab": {}
      },
      "source": [
        "df.iloc[100].instructions"
      ],
      "execution_count": null,
      "outputs": []
    },
    {
      "cell_type": "code",
      "metadata": {
        "Collapsed": "false",
        "id": "o4w1zMZGDBFI",
        "colab_type": "code",
        "colab": {}
      },
      "source": [
        "df.iloc[100].combined"
      ],
      "execution_count": null,
      "outputs": []
    },
    {
      "cell_type": "code",
      "metadata": {
        "Collapsed": "false",
        "id": "Z097Niv4DBFY",
        "colab_type": "code",
        "colab": {}
      },
      "source": [
        "df.to_pickle('df_recipes_preprocessed.pkl')"
      ],
      "execution_count": null,
      "outputs": []
    },
    {
      "cell_type": "code",
      "metadata": {
        "Collapsed": "false",
        "id": "KhqoeOPODBFp",
        "colab_type": "code",
        "colab": {}
      },
      "source": [
        "dataset_train=df[:120000].combined.values\n",
        "dataset_val=df[120000:].combined.values"
      ],
      "execution_count": null,
      "outputs": []
    },
    {
      "cell_type": "code",
      "metadata": {
        "Collapsed": "false",
        "id": "RQFkxBppDBF8",
        "colab_type": "code",
        "colab": {}
      },
      "source": [
        "with open('Dataset/dataset_train.txt', 'w') as f:\n",
        "  f.write('\\n'.join(dataset_train))\n",
        "\n",
        "with open('Dataset/dataset_val.txt', 'w') as f:\n",
        "  f.write('\\n'.join(dataset_val)) "
      ],
      "execution_count": null,
      "outputs": []
    },
    {
      "cell_type": "code",
      "metadata": {
        "Collapsed": "false",
        "id": "wwWO3ezlDBGH",
        "colab_type": "code",
        "colab": {}
      },
      "source": [
        ""
      ],
      "execution_count": null,
      "outputs": []
    },
    {
      "cell_type": "code",
      "metadata": {
        "Collapsed": "false",
        "id": "QCwdkYLZDBGQ",
        "colab_type": "code",
        "colab": {}
      },
      "source": [
        ""
      ],
      "execution_count": null,
      "outputs": []
    },
    {
      "cell_type": "code",
      "metadata": {
        "Collapsed": "false",
        "id": "VH0H8u_uDBGY",
        "colab_type": "code",
        "colab": {}
      },
      "source": [
        ""
      ],
      "execution_count": null,
      "outputs": []
    },
    {
      "cell_type": "code",
      "metadata": {
        "Collapsed": "false",
        "id": "NMYc6u46DBGg",
        "colab_type": "code",
        "colab": {}
      },
      "source": [
        ""
      ],
      "execution_count": null,
      "outputs": []
    },
    {
      "cell_type": "code",
      "metadata": {
        "Collapsed": "false",
        "id": "_GMT-6bJDBGo",
        "colab_type": "code",
        "colab": {}
      },
      "source": [
        ""
      ],
      "execution_count": null,
      "outputs": []
    }
  ]
}