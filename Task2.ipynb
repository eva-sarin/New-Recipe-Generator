{
  "nbformat": 4,
  "nbformat_minor": 0,
  "metadata": {
    "kernelspec": {
      "display_name": "Python 3",
      "language": "python",
      "name": "python3"
    },
    "language_info": {
      "codemirror_mode": {
        "name": "ipython",
        "version": 3
      },
      "file_extension": ".py",
      "mimetype": "text/x-python",
      "name": "python",
      "nbconvert_exporter": "python",
      "pygments_lexer": "ipython3",
      "version": "3.8.3"
    },
    "colab": {
      "name": "Task2.ipynb",
      "provenance": [],
      "private_outputs": true
    },
    "accelerator": "GPU"
  },
  "cells": [
    {
      "cell_type": "markdown",
      "metadata": {
        "Collapsed": "false",
        "id": "ihMR2zb5o5JX",
        "colab_type": "text"
      },
      "source": [
        "# Using Natural Language Processing to Generate New Recipes in Python\n",
        "## Task 2: Exploratory Data Analysis and Preprocessing"
      ]
    },
    {
      "cell_type": "code",
      "metadata": {
        "Collapsed": "false",
        "id": "jlBFfbn6o5Ja",
        "colab_type": "code",
        "colab": {}
      },
      "source": [
        "import matplotlib\n",
        "%matplotlib inline\n",
        "matplotlib.rcParams['figure.dpi'] = 200\n",
        "import matplotlib.pyplot as plt\n",
        "plt.style.use('ggplot')\n",
        "\n",
        "import seaborn as sns\n",
        "\n",
        "import pandas as pd\n",
        "import json"
      ],
      "execution_count": null,
      "outputs": []
    },
    {
      "cell_type": "code",
      "metadata": {
        "Collapsed": "false",
        "id": "nRcbF7XRo5Jj",
        "colab_type": "code",
        "colab": {}
      },
      "source": [
        "data=json.load(open('Dataset/recipes_raw_nosource_ar.json','r'))"
      ],
      "execution_count": null,
      "outputs": []
    },
    {
      "cell_type": "code",
      "metadata": {
        "Collapsed": "false",
        "id": "fH3lMocAo5Jp",
        "colab_type": "code",
        "colab": {}
      },
      "source": [
        "keys=list(data.keys())\n",
        "data[keys[0]]"
      ],
      "execution_count": null,
      "outputs": []
    },
    {
      "cell_type": "code",
      "metadata": {
        "Collapsed": "false",
        "id": "R2dpCYseo5Jz",
        "colab_type": "code",
        "colab": {}
      },
      "source": [
        "recipe_sources=['ar','epi','fn']"
      ],
      "execution_count": null,
      "outputs": []
    },
    {
      "cell_type": "code",
      "metadata": {
        "Collapsed": "false",
        "id": "bvXP89YJo5J4",
        "colab_type": "code",
        "colab": {}
      },
      "source": [
        "df=pd.DataFrame()\n",
        "\n",
        "for recipe_source in recipe_sources:\n",
        "  data=json.load(\n",
        "      open(f'Dataset/recipes_raw_nosource_{recipe_source}.json','r'))\n",
        "  \n",
        "  for _, recipe in data.items():\n",
        "    if ('title' in recipe) and ('ingredients' in recipe) and ('instructions' in recipe):\n",
        "        sources.append(recipe_source)\n",
        "        titles.append(recipe['title'])\n",
        "        ingredients.append([ingredient.replace ('ADVERTISEMENT','')for ingredients in recipe['ingredients']])\n",
        "\n",
        "        instructions.append(str(recipe['instructions']).replace ('ADVERTISEMENT','').replace('\\n',''))\n",
        "\n",
        " df['source']=sources\n",
        " df['title']=titles\n",
        " df['ingredients']=ingredients\n",
        " df['instructions']=instructions   \n",
        "      "
      ],
      "execution_count": null,
      "outputs": []
    },
    {
      "cell_type": "code",
      "metadata": {
        "Collapsed": "false",
        "id": "z_NDGZ8uo5J9",
        "colab_type": "code",
        "colab": {}
      },
      "source": [
        "df.to_pickle('temp.pkl')"
      ],
      "execution_count": null,
      "outputs": []
    },
    {
      "cell_type": "code",
      "metadata": {
        "Collapsed": "false",
        "id": "6nKtLKR5o5KC",
        "colab_type": "code",
        "colab": {}
      },
      "source": [
        "df['ingredient_count']=df['ingredients'].str.len().fillna(0).astype(int)\n",
        "df['instruction_length']=df['instructions'].str.split().str.len().fillna(0).astype(innt)"
      ],
      "execution_count": null,
      "outputs": []
    },
    {
      "cell_type": "code",
      "metadata": {
        "Collapsed": "false",
        "id": "KGQdXrqko5KI",
        "colab_type": "code",
        "colab": {}
      },
      "source": [
        "df.head()"
      ],
      "execution_count": null,
      "outputs": []
    },
    {
      "cell_type": "code",
      "metadata": {
        "Collapsed": "false",
        "id": "78qZpS9io5KO",
        "colab_type": "code",
        "colab": {}
      },
      "source": [
        "sns.boxplot(data=df, x='source', y='ingredient_count', showfliers=False)"
      ],
      "execution_count": null,
      "outputs": []
    },
    {
      "cell_type": "code",
      "metadata": {
        "Collapsed": "false",
        "id": "wXA8TU6io5KT",
        "colab_type": "code",
        "colab": {}
      },
      "source": [
        "sns.boxplot(data=df, x='source', y='instruction_length', showfliers=False)"
      ],
      "execution_count": null,
      "outputs": []
    },
    {
      "cell_type": "code",
      "metadata": {
        "id": "iOrgHQL1CsVB",
        "colab_type": "code",
        "colab": {}
      },
      "source": [
        "df.to_pickle('df_recipes_raw.pkl')"
      ],
      "execution_count": null,
      "outputs": []
    }
  ]
}