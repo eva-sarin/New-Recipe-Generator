{
  "nbformat": 4,
  "nbformat_minor": 0,
  "metadata": {
    "kernelspec": {
      "display_name": "Python 3",
      "language": "python",
      "name": "python3"
    },
    "language_info": {
      "codemirror_mode": {
        "name": "ipython",
        "version": 3
      },
      "file_extension": ".py",
      "mimetype": "text/x-python",
      "name": "python",
      "nbconvert_exporter": "python",
      "pygments_lexer": "ipython3",
      "version": "3.8.3"
    },
    "colab": {
      "name": "Task2.ipynb",
      "provenance": [],
      "include_colab_link": true
    }
  },
  "cells": [
    {
      "cell_type": "markdown",
      "metadata": {
        "id": "view-in-github",
        "colab_type": "text"
      },
      "source": [
        "<a href=\"https://colab.research.google.com/github/eva-sarin/New-Recipe-Generator/blob/master/Task2.ipynb\" target=\"_parent\"><img src=\"https://colab.research.google.com/assets/colab-badge.svg\" alt=\"Open In Colab\"/></a>"
      ]
    },
    {
      "cell_type": "markdown",
      "metadata": {
        "Collapsed": "false",
        "id": "ihMR2zb5o5JX",
        "colab_type": "text"
      },
      "source": [
        "# Using Natural Language Processing to Generate New Recipes in Python\n",
        "## Task 2: Exploratory Data Analysis and Preprocessing"
      ]
    },
    {
      "cell_type": "code",
      "metadata": {
        "Collapsed": "false",
        "id": "jlBFfbn6o5Ja",
        "colab_type": "code",
        "colab": {
          "base_uri": "https://localhost:8080/",
          "height": 71
        },
        "outputId": "02b6a351-84cd-4f0b-a35d-4bcff7b04d9c"
      },
      "source": [
        "import matplotlib\n",
        "%matplotlib inline\n",
        "matplotlib.rcParams['figure.dpi'] = 200\n",
        "import matplotlib.pyplot as plt\n",
        "plt.style.use('ggplot')\n",
        "\n",
        "import seaborn as sns\n",
        "\n",
        "import pandas as pd\n",
        "import json"
      ],
      "execution_count": 2,
      "outputs": [
        {
          "output_type": "stream",
          "text": [
            "/usr/local/lib/python3.6/dist-packages/statsmodels/tools/_testing.py:19: FutureWarning: pandas.util.testing is deprecated. Use the functions in the public API at pandas.testing instead.\n",
            "  import pandas.util.testing as tm\n"
          ],
          "name": "stderr"
        }
      ]
    },
    {
      "cell_type": "code",
      "metadata": {
        "Collapsed": "false",
        "id": "nRcbF7XRo5Jj",
        "colab_type": "code",
        "colab": {}
      },
      "source": [
        "data=json.load(open('Dataset/recipes_raw_nosource_ar.json','r'))"
      ],
      "execution_count": null,
      "outputs": []
    },
    {
      "cell_type": "code",
      "metadata": {
        "Collapsed": "false",
        "id": "fH3lMocAo5Jp",
        "colab_type": "code",
        "colab": {}
      },
      "source": [
        "keys=list(data.keys())\n",
        "data[keys[0]]"
      ],
      "execution_count": null,
      "outputs": []
    },
    {
      "cell_type": "code",
      "metadata": {
        "Collapsed": "false",
        "id": "R2dpCYseo5Jz",
        "colab_type": "code",
        "colab": {}
      },
      "source": [
        "recipe_sources=['ar','epi','fn']"
      ],
      "execution_count": 4,
      "outputs": []
    },
    {
      "cell_type": "code",
      "metadata": {
        "Collapsed": "false",
        "id": "bvXP89YJo5J4",
        "colab_type": "code",
        "colab": {}
      },
      "source": [
        "df=pd.DataFrame()\n",
        "\n",
        "for recipe_source in recipe_sources:\n",
        "  data=json.load(\n",
        "      open(f'Dataset/recipes_raw_nosource_{recipe_source}.json','r'))\n",
        "  \n",
        "  for _, recipe in data.items():\n",
        "    if ('title' in recipe) and ('ingredients' in recipe) and ('instructions' in recipe):\n",
        "        sources.append(recipe_source)\n",
        "        titles.append(recipe['title'])\n",
        "        ingredients.append([ingredient.replace ('ADVERTISEMENT','')for ingredients in recipe['ingredients']])\n",
        "\n",
        "        instructions.append(str(recipe['instructions']).replace ('ADVERTISEMENT','').replace('\\n',''))\n",
        "\n",
        " df['source']=sources\n",
        " df['title']=titles\n",
        " df['ingredients']=ingredients\n",
        " df['instructions']=instructions   \n",
        "      "
      ],
      "execution_count": null,
      "outputs": []
    },
    {
      "cell_type": "code",
      "metadata": {
        "Collapsed": "false",
        "id": "z_NDGZ8uo5J9",
        "colab_type": "code",
        "colab": {}
      },
      "source": [
        "df.to_pickle('temp.pkl')"
      ],
      "execution_count": null,
      "outputs": []
    },
    {
      "cell_type": "code",
      "metadata": {
        "Collapsed": "false",
        "id": "6nKtLKR5o5KC",
        "colab_type": "code",
        "colab": {}
      },
      "source": [
        ""
      ],
      "execution_count": null,
      "outputs": []
    },
    {
      "cell_type": "code",
      "metadata": {
        "Collapsed": "false",
        "id": "KGQdXrqko5KI",
        "colab_type": "code",
        "colab": {}
      },
      "source": [
        ""
      ],
      "execution_count": null,
      "outputs": []
    },
    {
      "cell_type": "code",
      "metadata": {
        "Collapsed": "false",
        "id": "78qZpS9io5KO",
        "colab_type": "code",
        "colab": {}
      },
      "source": [
        ""
      ],
      "execution_count": null,
      "outputs": []
    },
    {
      "cell_type": "code",
      "metadata": {
        "Collapsed": "false",
        "id": "wXA8TU6io5KT",
        "colab_type": "code",
        "colab": {}
      },
      "source": [
        ""
      ],
      "execution_count": null,
      "outputs": []
    }
  ]
}